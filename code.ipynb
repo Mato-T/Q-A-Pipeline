{
 "cells": [
  {
   "cell_type": "code",
   "execution_count": 1,
   "id": "81c796f2",
   "metadata": {},
   "outputs": [
    {
     "name": "stdout",
     "output_type": "stream",
     "text": [
      "{\r\n",
      "  \"name\" : \"8202d20318fa\",\r\n",
      "  \"cluster_name\" : \"docker-cluster\",\r\n",
      "  \"cluster_uuid\" : \"9Uw7ztzPTnyT-3HMKW1SbQ\",\r\n",
      "  \"version\" : {\r\n",
      "    \"number\" : \"7.9.2\",\r\n",
      "    \"build_flavor\" : \"default\",\r\n",
      "    \"build_type\" : \"docker\",\r\n",
      "    \"build_hash\" : \"d34da0ea4a966c4e49417f2da2f244e3e97b4e6e\",\r\n",
      "    \"build_date\" : \"2020-09-23T00:45:33.626720Z\",\r\n",
      "    \"build_snapshot\" : false,\r\n",
      "    \"lucene_version\" : \"8.6.2\",\r\n",
      "    \"minimum_wire_compatibility_version\" : \"6.8.0\",\r\n",
      "    \"minimum_index_compatibility_version\" : \"6.0.0-beta1\"\r\n",
      "  },\r\n",
      "  \"tagline\" : \"You Know, for Search\"\r\n",
      "}\r\n"
     ]
    }
   ],
   "source": [
    "!curl -X GET \"localhost:9200/\""
   ]
  },
  {
   "cell_type": "markdown",
   "id": "21e45ef2",
   "metadata": {},
   "source": [
    "# Initializing Document Store\n",
    "- First, iterate through all unique documents and write them to the database\n",
    "- Finally, test whether the document store is able to retrieve the stored document"
   ]
  },
  {
   "cell_type": "code",
   "execution_count": 2,
   "id": "165557c4",
   "metadata": {},
   "outputs": [],
   "source": [
    "from haystack.document_stores.elasticsearch import ElasticsearchDocumentStore\n",
    "document_store = ElasticsearchDocumentStore(return_embedding=True)"
   ]
  },
  {
   "cell_type": "code",
   "execution_count": 3,
   "id": "538e7a09",
   "metadata": {},
   "outputs": [
    {
     "name": "stderr",
     "output_type": "stream",
     "text": [
      "Found cached dataset csv (/home/matoanderson/.cache/huggingface/datasets/csv/default-92c4c30cf6fed825/0.0.0/6954658bab30a358235fa864b05cf819af0e179325c740e4bc853bcc7ec513e1)\n"
     ]
    },
    {
     "data": {
      "application/vnd.jupyter.widget-view+json": {
       "model_id": "3f2279c1c31d4131921f5d58b64d588e",
       "version_major": 2,
       "version_minor": 0
      },
      "text/plain": [
       "  0%|          | 0/1 [00:00<?, ?it/s]"
      ]
     },
     "metadata": {},
     "output_type": "display_data"
    }
   ],
   "source": [
    "from datasets import load_dataset\n",
    "dataset = load_dataset(\"csv\", data_files=[\"electronics/splits/train.csv\", \"electronics/splits/test.csv\", \\\n",
    "                                         \"electronics/splits/dev.csv\"])[\"train\"]\n",
    "dataset = dataset.train_test_split(test_size=0.1)"
   ]
  },
  {
   "cell_type": "code",
   "execution_count": 4,
   "id": "701e664f",
   "metadata": {},
   "outputs": [],
   "source": [
    "dfs = {split: dset.to_pandas() for split, dset in dataset.flatten().items()} #store each split as separate DF"
   ]
  },
  {
   "cell_type": "code",
   "execution_count": 5,
   "id": "c4cdeeea",
   "metadata": {},
   "outputs": [],
   "source": [
    "for split, df in dfs.items():\n",
    "    docs=[{\"content\": row[\"review\"], \"id\": row[\"review_id\"], \"meta\":{\"item_id\": row[\"item_id\"], \\\n",
    "        \"question_id\": row[\"q_review_id\"], \"split\": split}} \\\n",
    "         for _, row in df.drop_duplicates(subset=\"review_id\").iterrows()]\n",
    "    document_store.write_documents(documents=docs, index=\"document\")"
   ]
  },
  {
   "cell_type": "code",
   "execution_count": 6,
   "id": "830c7c03",
   "metadata": {},
   "outputs": [],
   "source": [
    "from haystack.nodes.retriever import BM25Retriever\n",
    "bm25_retriever = BM25Retriever(document_store=document_store)"
   ]
  },
  {
   "cell_type": "code",
   "execution_count": 7,
   "id": "b89d96f6",
   "metadata": {},
   "outputs": [
    {
     "name": "stdout",
     "output_type": "stream",
     "text": [
      "<Document: id=68b06e03335cc5c3b93602b2f53b7b37, content='I've been a fan of Samsung for years and this is the first time I've strayed from my usual brand. Wh...'>\n",
      "Actual id is: 623cec49e7b276eb75f7f5ca5b1c6bdf\n"
     ]
    }
   ],
   "source": [
    "query = dataset[\"test\"][4][\"question\"]\n",
    "retrieved_docs = bm25_retriever.retrieve(query=query, top_k=3, filters={\"split\":[\"test\"]})\n",
    "print(retrieved_docs[0])\n",
    "print(f\"Actual id is: {dataset['train'][0]['review_id']}\")"
   ]
  },
  {
   "cell_type": "markdown",
   "id": "62b0b367",
   "metadata": {},
   "source": [
    "# Simple Pipeline\n",
    "- First, initialize the reader and the pipeline\n",
    "- Next, make a simple prediction"
   ]
  },
  {
   "cell_type": "code",
   "execution_count": 8,
   "id": "1287e40f",
   "metadata": {},
   "outputs": [
    {
     "name": "stderr",
     "output_type": "stream",
     "text": [
      "/home/matoanderson/.local/lib/python3.10/site-packages/torch/_utils.py:776: UserWarning: TypedStorage is deprecated. It will be removed in the future and UntypedStorage will be the only storage class. This should only matter to you if you are using storages directly.  To access UntypedStorage directly, use tensor.untyped_storage() instead of tensor.storage()\n",
      "  return self.fget.__get__(instance, owner)()\n"
     ]
    }
   ],
   "source": [
    "from haystack.nodes import FARMReader\n",
    "from transformers import AutoModelForQuestionAnswering, AutoTokenizer\n",
    "model_ckpt = \"deepset/minilm-uncased-squad2\"\n",
    "tokenizer = AutoTokenizer.from_pretrained(model_ckpt)\n",
    "max_seq_length, doc_stride = 384, 128\n",
    "reader = FARMReader(model_name_or_path=model_ckpt, progress_bar=False, \\\n",
    "                   max_seq_len=max_seq_length, doc_stride=doc_stride, return_no_answer=True)"
   ]
  },
  {
   "cell_type": "code",
   "execution_count": 9,
   "id": "14b3cb58",
   "metadata": {},
   "outputs": [],
   "source": [
    "from haystack.pipelines import ExtractiveQAPipeline\n",
    "pipe = ExtractiveQAPipeline(reader=reader, retriever=bm25_retriever)"
   ]
  },
  {
   "cell_type": "code",
   "execution_count": 10,
   "id": "1e95babb",
   "metadata": {},
   "outputs": [],
   "source": [
    "n_answers = 3\n",
    "preds = pipe.run(query=query, params={\"Retriever\": {\"top_k\": 3, \"filters\":{\"split\":[\"train\"]}}, \\\n",
    "                                      \"Reader\":{\"top_k\": n_answers}})"
   ]
  },
  {
   "cell_type": "code",
   "execution_count": 11,
   "id": "13f2b0a2",
   "metadata": {},
   "outputs": [
    {
     "name": "stdout",
     "output_type": "stream",
     "text": [
      "Question: How would you describe the build of the camera?\n",
      "\n",
      "Answer 1: perfectly fine\n",
      "Review snippter: ... know.Some people complain about the build quality.  Trust me, it's perfectly fine.  It's light, which can be misleading.  But there's nothing wrong w...\n",
      "\n",
      "\n",
      "Answer 2: \n",
      "Review snippter: ...None...\n",
      "\n",
      "\n",
      "Answer 3: perfectly comfortable\n",
      "Review snippter: ...y expect more for $400.  I guess I can understand that.  But I'm perfectly comfortable with the build quality.The competition for this camera are the ...\n",
      "\n",
      "\n"
     ]
    }
   ],
   "source": [
    "print(f\"Question: {preds['query']}\\n\")\n",
    "for idx in range(n_answers):\n",
    "    print(f\"Answer {idx+1}: {preds['answers'][idx].answer}\")\n",
    "    print(f\"Review snippter: ...{preds['answers'][idx].context}...\")\n",
    "    print(\"\\n\")"
   ]
  },
  {
   "cell_type": "markdown",
   "id": "3afa8b20",
   "metadata": {},
   "source": [
    "# Baseline Evaluation"
   ]
  },
  {
   "cell_type": "markdown",
   "id": "2c0a2c95",
   "metadata": {},
   "source": [
    "- Create a list of label objects for the document store for later evaluation\n",
    "- Initiate a pipeline for the retriever only (since both components should be evaluated separately)\n",
    "- Initiate another pipeline to evaluate the reader"
   ]
  },
  {
   "cell_type": "code",
   "execution_count": 12,
   "id": "a1438dbe",
   "metadata": {},
   "outputs": [],
   "source": [
    "from haystack import Label, Answer, Document\n",
    "labels = []\n",
    "for i, row in dfs[\"test\"].iterrows(): \n",
    "    meta = {\"item_id\":  row[\"item_id\"], \"question_id\": row[\"q_review_id\"]}\n",
    "    if row[\"human_ans_spans\"] != \"ANSWERNOTFOUND\": #not an empty answer\n",
    "        label = Label(query=row[\"question\"], answer=Answer(answer=row[\"human_ans_spans\"]), origin=\"gold-label\", \\\n",
    "                  document=Document(content=row[\"review\"], id=row[\"review_id\"]),\n",
    "                  is_correct_answer=True, is_correct_document=True, no_answer=False, \\\n",
    "                  filters={\"item_id\": [meta[\"item_id\"]], \"split\":[\"test\"]})\n",
    "        labels.append(label)\n",
    "    else:\n",
    "        label = Label(query=row[\"question\"], answer=Answer(answer=\"\"), origin=\"gold-label\", \\\n",
    "                     document=Document(content=row[\"review\"], id=row[\"review_id\"]), meta=meta, \\\n",
    "                     is_correct_answer=True, is_correct_document=True, no_answer=True, \\\n",
    "                     filters={\"item_id\": [row[\"item_id\"]], split:\"test\"})\n",
    "        labels.append(label)\n",
    "document_store.write_labels(labels, index=\"label\") \n",
    "labels = document_store.get_all_labels_aggregated(index=\"label\", open_domain=True, aggregate_by_meta=[\"item_id\"])"
   ]
  },
  {
   "cell_type": "code",
   "execution_count": 13,
   "id": "1c053cbc",
   "metadata": {},
   "outputs": [],
   "source": [
    "from haystack.pipelines import DocumentSearchPipeline\n",
    "pipe = DocumentSearchPipeline(retriever=bm25_retriever)"
   ]
  },
  {
   "cell_type": "code",
   "execution_count": 14,
   "id": "c95e9a3a",
   "metadata": {},
   "outputs": [
    {
     "name": "stdout",
     "output_type": "stream",
     "text": [
      "Recall for Retriver: 0.69\n"
     ]
    }
   ],
   "source": [
    "eval_result = pipe.eval(labels=labels, params={\"Retriever\": {\"top_k\": 3}})\n",
    "metrics = eval_result.calculate_metrics()\n",
    "print(f\"Recall for Retriver: {metrics['Retriever']['recall_single_hit']:.2f}\") "
   ]
  },
  {
   "cell_type": "code",
   "execution_count": 15,
   "id": "5786656a",
   "metadata": {},
   "outputs": [],
   "source": [
    "from haystack.pipelines import Pipeline\n",
    "def evaluate_reader(reader):\n",
    "    score_keys = [\"exact_match\", \"f1\"]\n",
    "    p = Pipeline()\n",
    "    p.add_node(component=reader, name=\"Reader\", inputs=[\"Query\"])\n",
    "    eval_result = p.eval(labels=labels, documents=[[label.document for label in multilabel.labels] \\\n",
    "                                                  for multilabel in labels], params={})\n",
    "    metrics = eval_result.calculate_metrics(simulated_top_k_reader=1)\n",
    "    return {k:v for k,v in metrics[\"Reader\"].items() if k in score_keys}\n",
    "reader_eval = {}\n",
    "reader_eval[\"fine-tuned on SQuAD\"] = evaluate_reader(reader)"
   ]
  },
  {
   "cell_type": "code",
   "execution_count": 16,
   "id": "dfbd8001",
   "metadata": {},
   "outputs": [
    {
     "data": {
      "image/png": "[encoded data removed]",
      "text/plain": [
       "<Figure size 640x480 with 1 Axes>"
      ]
     },
     "metadata": {},
     "output_type": "display_data"
    }
   ],
   "source": [
    "import matplotlib.pyplot as plt\n",
    "import pandas as pd\n",
    "def plot_reader_eval(reader_eval):\n",
    "    fig, ax = plt.subplots()\n",
    "    df = pd.DataFrame.from_dict(reader_eval)\n",
    "    df.plot(kind=\"bar\", ylabel=\"Score\", rot=0, ax=ax)\n",
    "    ax.set_xticklabels([\"EM\", \"F1\"])\n",
    "    plt.legend(loc=\"upper left\")\n",
    "    plt.show()\n",
    "plot_reader_eval(reader_eval)\n",
    "    "
   ]
  },
  {
   "cell_type": "markdown",
   "id": "84f19c44",
   "metadata": {},
   "source": [
    "# Dense Passage Retrieval\n",
    "- Using two BERT models as encoders for the question and passage. The dot product similarity between the two vectors will result in the new document score\n",
    "- Update the embeddings and run the evaluation again"
   ]
  },
  {
   "cell_type": "code",
   "execution_count": 17,
   "id": "49564c81",
   "metadata": {},
   "outputs": [
    {
     "name": "stderr",
     "output_type": "stream",
     "text": [
      "/home/matoanderson/.local/lib/python3.10/site-packages/torch/_utils.py:776: UserWarning: TypedStorage is deprecated. It will be removed in the future and UntypedStorage will be the only storage class. This should only matter to you if you are using storages directly.  To access UntypedStorage directly, use tensor.untyped_storage() instead of tensor.storage()\n",
      "  return self.fget.__get__(instance, owner)()\n",
      "The tokenizer class you load from this checkpoint is not the same type as the class this function is called from. It may result in unexpected tokenization. \n",
      "The tokenizer class you load from this checkpoint is 'DPRQuestionEncoderTokenizer'. \n",
      "The class this function is called from is 'DPRContextEncoderTokenizerFast'.\n"
     ]
    }
   ],
   "source": [
    "from haystack.nodes import DensePassageRetriever\n",
    "dpr_retriever = DensePassageRetriever(document_store=document_store, \\\n",
    "                                     query_embedding_model=\"facebook/dpr-question_encoder-single-nq-base\", \\\n",
    "                                     passage_embedding_model=\"facebook/dpr-ctx_encoder-single-nq-base\", \\\n",
    "                                     embed_title=False)"
   ]
  },
  {
   "cell_type": "code",
   "execution_count": 18,
   "id": "fd7871ab",
   "metadata": {},
   "outputs": [
    {
     "data": {
      "application/vnd.jupyter.widget-view+json": {
       "model_id": "9e02a2d757134e1eb4e1d2d932422967",
       "version_major": 2,
       "version_minor": 0
      },
      "text/plain": [
       "Updating embeddings:   0%|          | 0/1615 [00:00<?, ? Docs/s]"
      ]
     },
     "metadata": {},
     "output_type": "display_data"
    },
    {
     "data": {
      "application/vnd.jupyter.widget-view+json": {
       "model_id": "",
       "version_major": 2,
       "version_minor": 0
      },
      "text/plain": [
       "Create embeddings:   0%|          | 0/1616 [00:00<?, ? Docs/s]"
      ]
     },
     "metadata": {},
     "output_type": "display_data"
    },
    {
     "name": "stdout",
     "output_type": "stream",
     "text": [
      "Recall for Retriever: 0.69\n"
     ]
    }
   ],
   "source": [
    "document_store.update_embeddings(retriever=dpr_retriever)\n",
    "pipe = DocumentSearchPipeline(retriever=dpr_retriever)\n",
    "eval_result = pipe.eval(labels=labels, params={\"Retriever\": {\"top_k\":3}})\n",
    "metrics = eval_result.calculate_metrics()\n",
    "print(f\"Recall for Retriever: {metrics['Retriever']['recall_single_hit']:.2f}\")"
   ]
  },
  {
   "cell_type": "markdown",
   "id": "61aac213",
   "metadata": {},
   "source": [
    "- Did not improve the retriever, but still the default choice for embeddings "
   ]
  },
  {
   "cell_type": "markdown",
   "id": "9eb557e1",
   "metadata": {},
   "source": [
    "# Fine-Tuning the Reader\n",
    "- Training the reader requires an additional, yet important, step: converting the data into SQuAD JSON format"
   ]
  },
  {
   "cell_type": "code",
   "execution_count": 19,
   "id": "f2bdf7a1",
   "metadata": {},
   "outputs": [],
   "source": [
    "def create_paragraphs(df):\n",
    "    paragraphs = []\n",
    "    id2context = dict(zip(df[\"review_id\"], df[\"review\"]))\n",
    "    for document_id, document in id2context.items():\n",
    "        qas = []\n",
    "        document_df = df.query(f\"review_id == '{document_id}'\")\n",
    "        id2question = dict(zip(document_df[\"q_review_id\"], document_df[\"question\"]))\n",
    "        for qid, question in id2question.items():\n",
    "            question_df = document_df.query(f\"q_review_id == '{qid}'\").to_dict(orient=\"list\")\n",
    "            ans_start_idx = [i.find(\",\") for i in question_df[\"human_ans_indices\"]] #\"(start, end)\"\n",
    "            ans_start = [int(j[1:ans_start_idx[i]]) for i,j in enumerate(question_df[\"human_ans_indices\"])]\n",
    "            ans_text = question_df[\"human_ans_spans\"]\n",
    "            \n",
    "            answers = [{\"text\": text, \"answer_start\": start} for text, start in zip(ans_text, ans_start) \\\n",
    "                          if text != \"ANSWERNOTFOUND\"]\n",
    "            is_impossible = False\n",
    "            if not answers: #no valid answers\n",
    "                is_impossible = True\n",
    "            qas.append({\"question\": question, \"id\": qid, \"is_impossible\": is_impossible, \"answers\": answers})\n",
    "        paragraphs.append({\"qas\": qas, \"context\": document})\n",
    "    return paragraphs"
   ]
  },
  {
   "cell_type": "code",
   "execution_count": 20,
   "id": "2ad1fcf6",
   "metadata": {},
   "outputs": [],
   "source": [
    "import json\n",
    "def convert_to_squad(dfs):\n",
    "    for split, df in dfs.items():\n",
    "        qa_data = {}\n",
    "        paragraphs = df.groupby(\"item_id\").apply(create_paragraphs).to_frame(name=\"paragraphs\").reset_index()\n",
    "        qa_data[\"data\"] = paragraphs.to_dict(orient=\"records\")\n",
    "        with open(f\"qa-{split}.json\", \"w+\", encoding=\"utf-8\") as f:\n",
    "            json.dump(qa_data, f)\n",
    "convert_to_squad(dfs)"
   ]
  },
  {
   "cell_type": "code",
   "execution_count": 21,
   "id": "23b2edae",
   "metadata": {},
   "outputs": [
    {
     "data": {
      "application/vnd.jupyter.widget-view+json": {
       "model_id": "51826c910cfd48c2bb9c6281739d12b1",
       "version_major": 2,
       "version_minor": 0
      },
      "text/plain": [
       "Preprocessing dataset:   0%|          | 0/4 [00:00<?, ? Dicts/s]"
      ]
     },
     "metadata": {},
     "output_type": "display_data"
    },
    {
     "name": "stderr",
     "output_type": "stream",
     "text": [
      "Answer 'Bass is weak as expected , even with EQ adjusted up' not contained in context.\n",
      "Example will not be converted for training/evaluation.\n",
      "Answer 'These headphones are n't very' not contained in context.\n",
      "Example will not be converted for training/evaluation.\n",
      "Answer 'The picture quality is solid sharp and amazing' not contained in context.\n",
      "Example will not be converted for training/evaluation.\n",
      "Answer 'is is the 1.4' not contained in context.\n",
      "Example will not be converted for training/evaluation.\n",
      "Answer 'tripod to let you see how well it works . The tripod does look quite cheap in construction' not contained in context.\n",
      "Example will not be converted for training/evaluation.\n",
      "Answer 'I can fit about 5 lenses and a camera body in this case .' not contained in context.\n",
      "Example will not be converted for training/evaluation.\n",
      "Answer 'the resulting images will be very soft .   It sharpens up nicely by f/4' not contained in context.\n",
      "Example will not be converted for training/evaluation.\n",
      "Answer 'the image quality is comparable to L series zoom lenses' not contained in context.\n",
      "Example will not be converted for training/evaluation.\n",
      "Answer 'These wireless headphones are really awesome !' not contained in context.\n",
      "Example will not be converted for training/evaluation.\n",
      "Answer 'Range is excellent , gets reception over 50 ft away' not contained in context.\n",
      "Example will not be converted for training/evaluation.\n",
      "Answer 'I 'll hear bursts of static from time to time' not contained in context.\n",
      "Example will not be converted for training/evaluation.\n",
      "Answer 'sound no problems' not contained in context.\n",
      "Example will not be converted for training/evaluation.\n",
      "Answer 'I had purchased a cable for $ 50' not contained in context.\n",
      "Example will not be converted for training/evaluation.\n",
      "Answer 'It 's truly amazing' not contained in context.\n",
      "Example will not be converted for training/evaluation.\n",
      "Answer 'the bag is huge , so big' not contained in context.\n",
      "Example will not be converted for training/evaluation.\n",
      "Answer 'This bag is perfect for my present needs' not contained in context.\n",
      "Example will not be converted for training/evaluation.\n",
      "Answer 'Images are clean and crisp , and the autofocus is butter smooth' not contained in context.\n",
      "Example will not be converted for training/evaluation.\n",
      "Answer 'This is great' not contained in context.\n",
      "Example will not be converted for training/evaluation.\n",
      "Answer 'Over all , this is one sweet remote' not contained in context.\n",
      "Example will not be converted for training/evaluation.\n",
      "Answer 'it 's a decent camera' not contained in context.\n",
      "Example will not be converted for training/evaluation.\n",
      "Answer 'it 's highly sensitive and easy to use' not contained in context.\n",
      "Example will not be converted for training/evaluation.\n",
      "Answer 'this is a great all around lens and is my favorite for event photography and as my personal \" walkabout \" lens when I 'm on vacation' not contained in context.\n",
      "Example will not be converted for training/evaluation.\n",
      "Answer 'but it 's still a compact pocket camera with limitations .' not contained in context.\n",
      "Example will not be converted for training/evaluation.\n",
      "Answer 'screen simple controls ,' not contained in context.\n",
      "Example will not be converted for training/evaluation.\n",
      "Answer 'it still is working well .' not contained in context.\n",
      "Example will not be converted for training/evaluation.\n",
      "Answer 'The software that comes with is great' not contained in context.\n",
      "Example will not be converted for training/evaluation.\n",
      "Answer 'I love the companion 5 speakers after hearing those speakers the companion 2 will sound like a total disappointment . on the other had these speakers are perfect for those who love extra bass' not contained in context.\n",
      "Example will not be converted for training/evaluation.\n",
      "Answer 'The good news is that these earbuds sound pretty good .' not contained in context.\n",
      "Example will not be converted for training/evaluation.\n",
      "Answer 'this was great They work wonderful' not contained in context.\n",
      "Example will not be converted for training/evaluation.\n",
      "Answer 'Not much to add ; it 's designed for a specific' not contained in context.\n",
      "Example will not be converted for training/evaluation.\n",
      "Answer 'It perfectly detects the speed each device is capable to achieve and the LED 's illuminated accordingly' not contained in context.\n",
      "Example will not be converted for training/evaluation.\n",
      "Answer 'The camera takes excellent pictures and is pretty rugged The camera lightweight and requires a steady hand the camera is snapping the picture and moving the camera right after it' not contained in context.\n",
      "Example will not be converted for training/evaluation.\n",
      "Answer 'The instructions included were easy to follow , there was no confusion about how to install' not contained in context.\n",
      "Example will not be converted for training/evaluation.\n",
      "Answer 'i have a macbook pro so i do n't have many usb' not contained in context.\n",
      "Example will not be converted for training/evaluation.\n",
      "Answer 'However if your camera , is like mine , capable of using a CF card , spend the extra money and get that card' not contained in context.\n",
      "Example will not be converted for training/evaluation.\n",
      "Answer 'The sound is rich , deep and bassy when needed' not contained in context.\n",
      "Example will not be converted for training/evaluation.\n",
      "Answer 'This charger looks good , and functions great , and the price ca n't be beat' not contained in context.\n",
      "Example will not be converted for training/evaluation.\n",
      "Answer 'I 've only been using this charger for a week' not contained in context.\n",
      "Example will not be converted for training/evaluation.\n",
      "Answer 'This product has a belt holder ( clip )' not contained in context.\n",
      "Example will not be converted for training/evaluation.\n",
      "Answer '.   I find the software to be fairly intuitive' not contained in context.\n",
      "Example will not be converted for training/evaluation.\n",
      "Answer 'If you 're indoors' not contained in context.\n",
      "Example will not be converted for training/evaluation.\n",
      "Answer 'I was able to zoom in as planes landed and you can see the pilot 's faces as they were landing' not contained in context.\n",
      "Example will not be converted for training/evaluation.\n",
      "Answer 'speakers are crisp clear and sound great' not contained in context.\n",
      "Example will not be converted for training/evaluation.\n",
      "Answer 'It was easy to put up , The instructions were clear and the Television was a snap to hang .' not contained in context.\n",
      "Example will not be converted for training/evaluation.\n",
      "Answer 'I bought this card for my EVO 4 G' not contained in context.\n",
      "Example will not be converted for training/evaluation.\n",
      "Answer 'The picture is amazing . It is so clear and sharp .' not contained in context.\n",
      "Example will not be converted for training/evaluation.\n",
      "Answer 'The build quality of these is exceptional . They are thick and well shielded' not contained in context.\n",
      "Example will not be converted for training/evaluation.\n",
      "Answer 'These cables are extremely well made , have the extra feature of incorporating an ethernet path and are a really great buy' not contained in context.\n",
      "Example will not be converted for training/evaluation.\n",
      "Answer 'While I do n't have' not contained in context.\n",
      "Example will not be converted for training/evaluation.\n",
      "Answer 'is a sturdy , well constructed product that does the job and this certainly does that' not contained in context.\n",
      "Example will not be converted for training/evaluation.\n",
      "Answer 'sale for as much as $ 750' not contained in context.\n",
      "Example will not be converted for training/evaluation.\n",
      "Answer 'and so far it 's been worth every penny !' not contained in context.\n",
      "Example will not be converted for training/evaluation.\n",
      "Answer 'This grip fits perfect , feels good in your hands' not contained in context.\n",
      "Example will not be converted for training/evaluation.\n",
      "Answer 'have to program device every time you boot up' not contained in context.\n",
      "Example will not be converted for training/evaluation.\n",
      "Answer 'This thing is massive ! * Loud' not contained in context.\n",
      "Example will not be converted for training/evaluation.\n",
      "Answer 'the competition in point and shoot camera 's' not contained in context.\n",
      "Example will not be converted for training/evaluation.\n"
     ]
    },
    {
     "name": "stderr",
     "output_type": "stream",
     "text": [
      "Answer 'I was lucky to get this lens for $ 199 from Amazon' not contained in context.\n",
      "Example will not be converted for training/evaluation.\n",
      "Answer 'The LCD screen on the back is crisp , clear , and bright so you can see it even in daylight' not contained in context.\n",
      "Example will not be converted for training/evaluation.\n",
      "Answer 'Ok folks , I normally do n't write reviews but' not contained in context.\n",
      "Example will not be converted for training/evaluation.\n",
      "Answer 'the bass easily audible' not contained in context.\n",
      "Example will not be converted for training/evaluation.\n",
      "Answer 'than you 're used to compared to Nikon or Zeiss lenses' not contained in context.\n",
      "Example will not be converted for training/evaluation.\n",
      "Answer 'full volume' not contained in context.\n",
      "Example will not be converted for training/evaluation.\n",
      "Answer 'this is a very affordable and effective computer audio solution .' not contained in context.\n",
      "Example will not be converted for training/evaluation.\n",
      "Answer 'These speakers sound decent , but the speakers themselves have absolutely NO bass in them at all' not contained in context.\n",
      "Example will not be converted for training/evaluation.\n",
      "Answer 'my Monitor speakers The sound these speakers are more than I expected' not contained in context.\n",
      "Example will not be converted for training/evaluation.\n",
      "Answer 'The sound is awesome , better than I expected for the low price .' not contained in context.\n",
      "Example will not be converted for training/evaluation.\n",
      "Answer 'These speakers are inexpensive and fine for my grandchildren 's needs' not contained in context.\n",
      "Example will not be converted for training/evaluation.\n",
      "Answer 'for $ 40 these are by far superior to any otherThere' not contained in context.\n",
      "Example will not be converted for training/evaluation.\n",
      "Answer 'The cursor will flake out every once in a while but it 's usable as a mouse at this point' not contained in context.\n",
      "Example will not be converted for training/evaluation.\n",
      "Answer 'I did n't get any range improvement in one area of my house and my main laptop is still around -60db' not contained in context.\n",
      "Example will not be converted for training/evaluation.\n",
      "Answer 'The zoom compactness and fantastic video implementation are wonderful' not contained in context.\n",
      "Example will not be converted for training/evaluation.\n",
      "Answer 'it sounds amazing compare' not contained in context.\n",
      "Example will not be converted for training/evaluation.\n",
      "Answer 'I ANSWERNOTFOUND' not contained in context.\n",
      "Example will not be converted for training/evaluation.\n",
      "Answer 'I had a blue one like this , and' not contained in context.\n",
      "Example will not be converted for training/evaluation.\n",
      "Answer 'about 20 minutes later , it shuts off inexplicably and tries to tell me that the battery is empty' not contained in context.\n",
      "Example will not be converted for training/evaluation.\n",
      "Answer 'The unit is really tiny ANSWERNOTFOUND' not contained in context.\n",
      "Example will not be converted for training/evaluation.\n",
      "Answer 'the fan itself is n't super loud . There is an adjustable dial to change fan speed' not contained in context.\n",
      "Example will not be converted for training/evaluation.\n",
      "Answer 'Same problem.4 ANSWERNOTFOUND' not contained in context.\n",
      "Example will not be converted for training/evaluation.\n",
      "Answer 'ca n't download the drivers' not contained in context.\n",
      "Example will not be converted for training/evaluation.\n",
      "Answer 'The signal strength has been consistently strong and I have n't had' not contained in context.\n",
      "Example will not be converted for training/evaluation.\n",
      "Answer 'Do n't expect to always get the 150Mbps' not contained in context.\n",
      "Example will not be converted for training/evaluation.\n",
      "Answer 'It lasts long , and very reliable' not contained in context.\n",
      "Example will not be converted for training/evaluation.\n",
      "Answer 'hold a charge longer than older style re - chargeables' not contained in context.\n",
      "Example will not be converted for training/evaluation.\n",
      "Answer 'its the best mouse i ve ever had' not contained in context.\n",
      "Example will not be converted for training/evaluation.\n",
      "Answer 'The packaging is excellent with a nice wrapping and protection in a nice box ( recycled material )' not contained in context.\n",
      "Example will not be converted for training/evaluation.\n",
      "Answer 'These headphones sound good and I am sure they are good for people' not contained in context.\n",
      "Example will not be converted for training/evaluation.\n",
      "Answer 'For me , these headphones are BETTER' not contained in context.\n",
      "Example will not be converted for training/evaluation.\n",
      "Answer 'bass lower' not contained in context.\n",
      "Example will not be converted for training/evaluation.\n",
      "Answer 'The instructions were n't perfectly clear so I called the tech support and they were extremely' not contained in context.\n",
      "Example will not be converted for training/evaluation.\n",
      "Answer 'The bass was enhanced by adding the Comply 400 tips and setting the equalizer setting on the iPod from & # 34;Off&#34 ; to & # 34;Lounge&#34' not contained in context.\n",
      "Example will not be converted for training/evaluation.\n",
      "Answer 'These earbuds are nothing special ANSWERNOTFOUND' not contained in context.\n",
      "Example will not be converted for training/evaluation.\n",
      "Answer 'slightly better sound but are n't as good' not contained in context.\n",
      "Example will not be converted for training/evaluation.\n",
      "Answer 'These ones have less bass , yet deeper and more precise bass' not contained in context.\n",
      "Example will not be converted for training/evaluation.\n",
      "Answer 'the bass is practically non - existent' not contained in context.\n",
      "Example will not be converted for training/evaluation.\n",
      "Answer 'This cable is better than the ones you pay $ 29 or $ 39 for in the stores' not contained in context.\n",
      "Example will not be converted for training/evaluation.\n",
      "Answer 'WHO NEEDS IT?This wire should work well with anything that supports HDMI 1.3x but it 's built to comply with the higher HDMI 1.4 standard' not contained in context.\n",
      "Example will not be converted for training/evaluation.\n",
      "Answer 'These headphones have a tinny , weak sound' not contained in context.\n",
      "Example will not be converted for training/evaluation.\n",
      "Answer 'I think that the performance ( colors , contrast , brightness ) is very good for home use' not contained in context.\n",
      "Example will not be converted for training/evaluation.\n",
      "Answer 'accurate + bright display' not contained in context.\n",
      "Example will not be converted for training/evaluation.\n",
      "Answer 'The sound quality on these was outstanding , and far , far better than I expected in a product at this price point' not contained in context.\n",
      "Example will not be converted for training/evaluation.\n",
      "Answer 'This solid ANSWERNOTFOUND' not contained in context.\n",
      "Example will not be converted for training/evaluation.\n",
      "Answer 'I 'm using this in combination with a short extension cable' not contained in context.\n",
      "Example will not be converted for training/evaluation.\n",
      "Answer 'The transmitter is small enough and size of mouse is great' not contained in context.\n",
      "Example will not be converted for training/evaluation.\n",
      "Answer 'This back lit keyboard is awesome ! ! !' not contained in context.\n",
      "Example will not be converted for training/evaluation.\n",
      "Answer 'sound quality is excellent The sounds are clear' not contained in context.\n",
      "Example will not be converted for training/evaluation.\n",
      "Answer 'The sound system itself very good' not contained in context.\n",
      "Example will not be converted for training/evaluation.\n",
      "Answer 'battery lifespan ANSWERNOTFOUND' not contained in context.\n",
      "Example will not be converted for training/evaluation.\n",
      "Answer 'the keyboard ! Everything else is great' not contained in context.\n",
      "Example will not be converted for training/evaluation.\n",
      "Answer 'stunning photos sharp photos' not contained in context.\n",
      "Example will not be converted for training/evaluation.\n",
      "Answer 'The transfer speed is only 3 MB / sec' not contained in context.\n",
      "Example will not be converted for training/evaluation.\n",
      "Answer '  This camera performs like the pros .   Fast accurate and easy to operated' not contained in context.\n",
      "Example will not be converted for training/evaluation.\n",
      "Answer 'The feel of the camera is very sturdy , the shutter sound is great' not contained in context.\n",
      "Example will not be converted for training/evaluation.\n"
     ]
    },
    {
     "name": "stderr",
     "output_type": "stream",
     "text": [
      "Answer 'I would n't buy a different one' not contained in context.\n",
      "Example will not be converted for training/evaluation.\n",
      "Answer 'The Trackman Wheel , unfortunately , had a few issues . I did n't mind that it was wired . I did , however , find myself frustrated with the lack of forward and back buttons .' not contained in context.\n",
      "Example will not be converted for training/evaluation.\n",
      "Answer 'The trackball now has additional \" back / forward \" buttons although they are located in an odd location that requires you to use your index fingers' not contained in context.\n",
      "Example will not be converted for training/evaluation.\n",
      "Answer 'The router took about 10 ' to install and has worked like a charm since then' not contained in context.\n",
      "Example will not be converted for training/evaluation.\n",
      "Answer 'There is no software to install the CD just contains instructions and will tell you if your connection is good' not contained in context.\n",
      "Example will not be converted for training/evaluation.\n",
      "Answer 'Performance has been great' not contained in context.\n",
      "Example will not be converted for training/evaluation.\n",
      "Answer 'do nt be' not contained in context.\n",
      "Example will not be converted for training/evaluation.\n",
      "Answer 'poor sound quality . Well the quality was n't all bad ... just that annoying bathroom echo effect' not contained in context.\n",
      "Example will not be converted for training/evaluation.\n",
      "Answer 'As the number of wireless devices increased in the house ( smart phones , iPods , several laptops , an E - reader , the Wii ... you get the picture ) I started getting complaints about dropped connections and/or the router being frozen' not contained in context.\n",
      "Example will not be converted for training/evaluation.\n",
      "Answer 'I only have one piece of equipment(Video ANSWERNOTFOUND' not contained in context.\n",
      "Example will not be converted for training/evaluation.\n",
      "Answer 'We have lost countless charging cords ( and 2 clocks' not contained in context.\n",
      "Example will not be converted for training/evaluation.\n",
      "Answer 'This cable is perfect . It 's well made and heavy - duty' not contained in context.\n",
      "Example will not be converted for training/evaluation.\n",
      "Answer 'The sound is fantastic and very loud ,' not contained in context.\n",
      "Example will not be converted for training/evaluation.\n",
      "Answer 'have a sensor and the resulting' not contained in context.\n",
      "Example will not be converted for training/evaluation.\n",
      "Answer 'I go tthis today and took quite a few shots and am very pleased' not contained in context.\n",
      "Example will not be converted for training/evaluation.\n",
      "Answer 'The touchscreen is very responsive &   quick' not contained in context.\n",
      "Example will not be converted for training/evaluation.\n",
      "Answer 'and watch television' not contained in context.\n",
      "Example will not be converted for training/evaluation.\n",
      "Answer 'This tripod is nice for less than $ 40' not contained in context.\n",
      "Example will not be converted for training/evaluation.\n",
      "Answer 'These headphones are great for listening to music and watching videos .' not contained in context.\n",
      "Example will not be converted for training/evaluation.\n",
      "Answer 'price is super great ( that s why I give 3 stars )' not contained in context.\n",
      "Example will not be converted for training/evaluation.\n",
      "Answer 'the setup software is easy and it 's attractive' not contained in context.\n",
      "Example will not be converted for training/evaluation.\n",
      "Answer 'The screen is top notch' not contained in context.\n",
      "Example will not be converted for training/evaluation.\n",
      "Answer 'the quality is actually great Great quality+' not contained in context.\n",
      "Example will not be converted for training/evaluation.\n",
      "Answer 'they ca n't get good quality audio' not contained in context.\n",
      "Example will not be converted for training/evaluation.\n",
      "Answer 'The Asus monitor is much brighter , higher contrast , and deeper colors' not contained in context.\n",
      "Example will not be converted for training/evaluation.\n",
      "Answer 'it looks fine , resolution is fine' not contained in context.\n",
      "Example will not be converted for training/evaluation.\n",
      "Answer 'Really great product for the price It 's a bit thicker' not contained in context.\n",
      "Example will not be converted for training/evaluation.\n",
      "Answer 'The idea is good , but the execution is pretty bad' not contained in context.\n",
      "Example will not be converted for training/evaluation.\n",
      "Answer 'drive drive was perfect' not contained in context.\n",
      "Example will not be converted for training/evaluation.\n",
      "Answer 'It 's the perfect size' not contained in context.\n",
      "Example will not be converted for training/evaluation.\n",
      "Answer 'Being that it 's all plastic , it 's also very light and portable' not contained in context.\n",
      "Example will not be converted for training/evaluation.\n",
      "Answer 'It 's great to have a wireless keyboard available' not contained in context.\n",
      "Example will not be converted for training/evaluation.\n",
      "Answer 'Four 32' not contained in context.\n",
      "Example will not be converted for training/evaluation.\n",
      "Answer 'The USB 3.0 speed is amazing' not contained in context.\n",
      "Example will not be converted for training/evaluation.\n",
      "Answer 'WIth the latter , I used the keyboard infrequently however every time that I went to use it' not contained in context.\n",
      "Example will not be converted for training/evaluation.\n",
      "Answer 'This case 's flexibility makes it a leader as it swivels , and detaches , allowing seemingly unlimited combinations of viewing and portability' not contained in context.\n",
      "Example will not be converted for training/evaluation.\n",
      "Answer 'The good*Overall design is elegant*Quality feel . Sturdy' not contained in context.\n",
      "Example will not be converted for training/evaluation.\n",
      "Answer 'The nearly unlimited amount positions' not contained in context.\n",
      "Example will not be converted for training/evaluation.\n",
      "Answer '- ear device such' not contained in context.\n",
      "Example will not be converted for training/evaluation.\n",
      "Answer 'the new interface is really nice .' not contained in context.\n",
      "Example will not be converted for training/evaluation.\n",
      "Answer 'The The size of it and the keys are great' not contained in context.\n",
      "Example will not be converted for training/evaluation.\n",
      "Answer 'The other keyboards were either too small , or too expensive' not contained in context.\n",
      "Example will not be converted for training/evaluation.\n",
      "Answer 'several cases are sold in the 20 - 25 dollar range' not contained in context.\n",
      "Example will not be converted for training/evaluation.\n",
      "Answer 'This case deserved all 5 stars ! the case feels good' not contained in context.\n",
      "Example will not be converted for training/evaluation.\n",
      "Answer 'The device works as it 's supposed' not contained in context.\n",
      "Example will not be converted for training/evaluation.\n",
      "Answer 'She likes the look , the feel , the holding of it , the fact the covers flips back' not contained in context.\n",
      "Example will not be converted for training/evaluation.\n",
      "Answer 'the house ... just forget about it . USELESS camera , be away' not contained in context.\n",
      "Example will not be converted for training/evaluation.\n",
      "Answer 'think great' not contained in context.\n",
      "Example will not be converted for training/evaluation.\n",
      "Answer 'But having grown accustomed to my previous 7 \"' not contained in context.\n",
      "Example will not be converted for training/evaluation.\n",
      "Answer 'The interface takes a few tries to get used to , as I 'm a newbie to touchscreen interfaces , but it 's pretty intuitive' not contained in context.\n",
      "Example will not be converted for training/evaluation.\n",
      "Answer 'cheepo tablets you can get for $ 99' not contained in context.\n",
      "Example will not be converted for training/evaluation.\n",
      "Answer 'It is not durable at all and you have to be very careful not to move the Kindle while it 's plugged in' not contained in context.\n",
      "Example will not be converted for training/evaluation.\n",
      "Answer 'So its not as easy to carry around or stick in a pocket or purse like a stand - alone ereader would do' not contained in context.\n",
      "Example will not be converted for training/evaluation.\n",
      "Answer '32 GB' not contained in context.\n",
      "Example will not be converted for training/evaluation.\n",
      "Answer 'camper buttons unobtrusive' not contained in context.\n",
      "Example will not be converted for training/evaluation.\n",
      "Answer 'Picture quality is clear and I used other 's settings mentioned on here for the picture adjustments' not contained in context.\n",
      "Example will not be converted for training/evaluation.\n"
     ]
    },
    {
     "name": "stderr",
     "output_type": "stream",
     "text": [
      "Answer 'Fast , easy setup' not contained in context.\n",
      "Example will not be converted for training/evaluation.\n",
      "Answer 'I could n't be happier with this tablet' not contained in context.\n",
      "Example will not be converted for training/evaluation.\n",
      "Answer 'of of of of of of' not contained in context.\n",
      "Example will not be converted for training/evaluation.\n",
      "Answer 'The lens tack sharp' not contained in context.\n",
      "Example will not be converted for training/evaluation.\n",
      "Answer 'There are definitely some damaged cards out there so be wary and do not hesitate to call customer service' not contained in context.\n",
      "Example will not be converted for training/evaluation.\n",
      "Answer 'case actually like it' not contained in context.\n",
      "Example will not be converted for training/evaluation.\n",
      "Answer 'The drive does nt get very warm even when transferring files' not contained in context.\n",
      "Example will not be converted for training/evaluation.\n",
      "Answer 'our phones could n't get a wifi signal' not contained in context.\n",
      "Example will not be converted for training/evaluation.\n",
      "Answer 'setting this router up , we have no problems' not contained in context.\n",
      "Example will not be converted for training/evaluation.\n",
      "Answer 'I love the quick setup , the gigabit connections' not contained in context.\n",
      "Example will not be converted for training/evaluation.\n",
      "Answer 'my 5GHz' not contained in context.\n",
      "Example will not be converted for training/evaluation.\n",
      "Answer 'sensor , I needed a lens that would get me close to 50 mm' not contained in context.\n",
      "Example will not be converted for training/evaluation.\n",
      "Answer 'I 'd like to implement but the performance ( speed ) has been terrific and stable' not contained in context.\n",
      "Example will not be converted for training/evaluation.\n",
      "Answer 'downgraded back 164' not contained in context.\n",
      "Example will not be converted for training/evaluation.\n",
      "Answer 'This case is super slim , super sleek , and fits the Nexus 7 perfectly' not contained in context.\n",
      "Example will not be converted for training/evaluation.\n",
      "Answer 'I loved it ! and not to mention , what a great price' not contained in context.\n",
      "Example will not be converted for training/evaluation.\n",
      "Answer 'The anti - glare function does work as described' not contained in context.\n",
      "Example will not be converted for training/evaluation.\n",
      "Answer 'The remote that comes with the TV is a sore spot here and I 'll tell you why' not contained in context.\n",
      "Example will not be converted for training/evaluation.\n",
      "Answer 'This keyboard is nice and light but n't feel flimsy' not contained in context.\n",
      "Example will not be converted for training/evaluation.\n",
      "Answer 'The Tone+ solves my only gripe with the standard model : the lack of a mute' not contained in context.\n",
      "Example will not be converted for training/evaluation.\n",
      "Answer 'enjoy ANSWERNOTFOUND' not contained in context.\n",
      "Example will not be converted for training/evaluation.\n",
      "Answer 'have owned Canon 's prior model' not contained in context.\n",
      "Example will not be converted for training/evaluation.\n",
      "Answer 'Thrilled with this purchase !   I' not contained in context.\n",
      "Example will not be converted for training/evaluation.\n",
      "Answer 'the bezel ( the frame ) around the screen is only about 1/2 inch wide and an inch or so deep' not contained in context.\n",
      "Example will not be converted for training/evaluation.\n",
      "Answer 'It 's much too difficult to navigate and download files' not contained in context.\n",
      "Example will not be converted for training/evaluation.\n",
      "Answer 'They 're built simple' not contained in context.\n",
      "Example will not be converted for training/evaluation.\n",
      "Answer 'CHANGE SATA' not contained in context.\n",
      "Example will not be converted for training/evaluation.\n",
      "Answer 'Cable is nice and long , and flexible' not contained in context.\n",
      "Example will not be converted for training/evaluation.\n",
      "Answer 'the size of the phone end of this cable would be too large' not contained in context.\n",
      "Example will not be converted for training/evaluation.\n",
      "Answer 'there is little special with any cable modem .   This modem is DOCSIS 3.0 which is the' not contained in context.\n",
      "Example will not be converted for training/evaluation.\n",
      "Answer 'quite good .' not contained in context.\n",
      "Example will not be converted for training/evaluation.\n",
      "Answer 'The DPI changing button is in a nice spot where you wo n't accidentally hit it' not contained in context.\n",
      "Example will not be converted for training/evaluation.\n",
      "Answer 'The hardware itself is pretty great . I love the simple design of the case and the power is a sufficient leap over the previous generation' not contained in context.\n",
      "Example will not be converted for training/evaluation.\n",
      "Answer 'This is the best ANSWERNOTFOUND' not contained in context.\n",
      "Example will not be converted for training/evaluation.\n",
      "Answer 'There are some slight limitations to the device but that should n't stop you from purchasing this product' not contained in context.\n",
      "Example will not be converted for training/evaluation.\n",
      "Answer 'I channels' not contained in context.\n",
      "Example will not be converted for training/evaluation.\n",
      "Answer 'is This is a Roku 3 ANSWERNOTFOUND' not contained in context.\n",
      "Example will not be converted for training/evaluation.\n",
      "Answer 'the roku is a great box , it works great and has the most channels .' not contained in context.\n",
      "Example will not be converted for training/evaluation.\n",
      "Answer 'battery for anyone 's Apple and Android Device' not contained in context.\n",
      "Example will not be converted for training/evaluation.\n",
      "Answer 'Call quality is n't that great though' not contained in context.\n",
      "Example will not be converted for training/evaluation.\n",
      "Answer 'It 's actually much faster to use than booting up my roommate 's 360 or PS4 to watch streaming media' not contained in context.\n",
      "Example will not be converted for training/evaluation.\n",
      "Answer 'I do not give it 5 stars because the image quality is not full hd . Some movies might have poor image quality' not contained in context.\n",
      "Example will not be converted for training/evaluation.\n",
      "Answer 'this product is excellent , very small' not contained in context.\n",
      "Example will not be converted for training/evaluation.\n",
      "Answer 'The new screen on the \" FHD' not contained in context.\n",
      "Example will not be converted for training/evaluation.\n",
      "Answer 'I really have n't found anything to dislike about this' not contained in context.\n",
      "Example will not be converted for training/evaluation.\n",
      "Answer 'elegant The keyboard is very responsive' not contained in context.\n",
      "Example will not be converted for training/evaluation.\n",
      "Answer 'and the wingspan with the three antennas attached makes it about the same footprint as 15 \" laptop' not contained in context.\n",
      "Example will not be converted for training/evaluation.\n",
      "Answer 'Case works perfectly , keyboard feels great and the hotkeys are amazing' not contained in context.\n",
      "Example will not be converted for training/evaluation.\n",
      "Answer 'the case is rather unattractive if you do n't account the leather strap' not contained in context.\n",
      "Example will not be converted for training/evaluation.\n",
      "Unable to convert 193 samples to features. Their ids are : 198-0-0, 353-0-0, 52-0-0, 233-0-0, 37-0-0, 448-0-6, 305-0-0, 445-0-0, 120-0-0, 84-0-0, 509-0-0, 133-0-0, 432-0-0, 386-0-0, 469-0-0, 228-0-0, 188-0-0, 408-0-0, 491-0-0, 404-0-0, 113-0-0, 458-0-0, 249-0-0, 251-0-0, 207-0-0, 399-0-0, 420-0-0, 424-0-0, 13-0-0, 208-0-0, 294-0-0, 108-0-0, 93-0-0, 191-0-0, 371-0-0, 206-0-0, 315-0-0, 89-0-0, 151-0-0, 281-0-0, 67-0-0, 121-0-0, 328-0-0, 242-0-0, 118-0-2, 153-0-0, 389-0-0, 1-0-0, 137-0-0, 17-0-0, 159-0-0, 2-0-0, 131-0-0, 433-0-0, 9-0-0, 133-0-2, 220-0-0, 65-0-0, 26-0-2, 373-0-1, 110-0-0, 70-0-0, 303-0-0, 244-0-0, 157-0-0, 176-0-0, 329-0-0, 143-0-0, 361-0-0, 55-0-0, 349-0-0, 379-0-0, 437-0-7, 37-0-12, 352-0-0, 416-0-0, 241-0-0, 36-0-0, 308-0-2, 363-0-0, 366-0-0, 156-0-0, 197-0-0, 374-0-0, 22-0-0, 417-0-0, 511-0-0, 359-0-0, 163-0-0, 391-0-0, 495-0-0, 348-0-0, 460-0-0, 168-0-0, 177-0-0, 478-0-0, 339-0-0, 390-0-0, 235-0-0, 462-0-0, 405-0-0, 158-0-0, 383-0-2, 184-1-0, 317-0-0, 266-0-0, 20-0-0, 304-0-0, 19-0-0, 268-0-0, 503-0-0, 107-0-0, 293-0-0, 32-0-0, 431-0-0, 269-0-0, 480-0-0, 91-0-0, 357-0-0, 34-0-0, 255-0-0, 271-0-0, 169-0-0, 114-0-0, 334-0-0, 130-0-0, 310-0-0, 231-0-0, 444-0-0, 482-0-0, 388-0-0, 261-0-0, 72-0-0, 505-0-0, 42-0-0, 86-0-0, 307-0-0, 393-0-0, 467-0-1, 140-0-0, 174-0-0, 106-0-0, 23-0-0, 279-0-0, 283-0-0, 298-0-0, 474-0-0, 60-0-0, 61-0-0, 162-0-0, 223-0-0, 38-0-2, 426-1-0, 360-0-0, 139-0-0, 125-0-0, 507-0-0, 83-0-0, 236-0-0, 147-0-0, 203-0-0, 423-1-0, 440-0-0, 256-0-0, 381-0-0, 375-0-0, 463-0-0, 289-0-0, 175-0-0, 54-0-0, 274-0-0, 378-0-0, 380-0-0, 406-0-0, 510-0-0, 181-0-0, 211-0-0, 280-0-0, 196-0-0, 283-0-2, 99-0-0, 257-0-0, 345-0-0, 187-0-0, 222-0-0, 377-0-0, 209-0-0, 159-0-1, 464-0-0, 452-0-0, 146-0-0, 449-0-0, 39-1-0\n"
     ]
    },
    {
     "data": {
      "application/vnd.jupyter.widget-view+json": {
       "model_id": "b67d76066b12406c859c4eb292c22467",
       "version_major": 2,
       "version_minor": 0
      },
      "text/plain": [
       "Preprocessing dataset:   0%|          | 0/1 [00:00<?, ? Dicts/s]"
      ]
     },
     "metadata": {},
     "output_type": "display_data"
    },
    {
     "name": "stderr",
     "output_type": "stream",
     "text": [
      "Answer 'crystal clear and BIG Bass booms' not contained in context.\n",
      "Example will not be converted for training/evaluation.\n",
      "Answer 'Do n't let brand name Cable makers convince you that their cables are really that different than this one' not contained in context.\n",
      "Example will not be converted for training/evaluation.\n",
      "Answer 'The auto focus is nice' not contained in context.\n",
      "Example will not be converted for training/evaluation.\n",
      "Answer 'Now it has become the most comfortable keyboard I 've ever used' not contained in context.\n",
      "Example will not be converted for training/evaluation.\n",
      "Answer 'It 's totally plug play and it detects when a device connected' not contained in context.\n",
      "Example will not be converted for training/evaluation.\n",
      "Answer 'The speakers are still great eventually' not contained in context.\n",
      "Example will not be converted for training/evaluation.\n",
      "Answer 'Sigma has a real winner here .' not contained in context.\n",
      "Example will not be converted for training/evaluation.\n",
      "Answer 'am a die hard Packers fan' not contained in context.\n",
      "Example will not be converted for training/evaluation.\n",
      "Answer 'However outside , in my placed this unit on the dashboard' not contained in context.\n",
      "Example will not be converted for training/evaluation.\n",
      "Answer 'The upper compartment is just a little too small lens).The lower compartment is too big' not contained in context.\n",
      "Example will not be converted for training/evaluation.\n",
      "Answer 'The The clip is The The' not contained in context.\n",
      "Example will not be converted for training/evaluation.\n",
      "Answer 'I am 100 % behind these AmazonBasics products' not contained in context.\n",
      "Example will not be converted for training/evaluation.\n",
      "Answer 'I 'm very happy with this router' not contained in context.\n",
      "Example will not be converted for training/evaluation.\n",
      "Answer 'switch.-Sound Quality is good .' not contained in context.\n",
      "Example will not be converted for training/evaluation.\n",
      "Answer 'SOUND : The sound is actually very good for background music' not contained in context.\n",
      "Example will not be converted for training/evaluation.\n",
      "Answer 'The sound quality for a mono device is n't bad' not contained in context.\n",
      "Example will not be converted for training/evaluation.\n",
      "Answer 'Windows fully loads in 20 - 30 seconds and shuts down even faster' not contained in context.\n",
      "Example will not be converted for training/evaluation.\n",
      "Answer 'the stand was not very adjustable I would have to use other small items to prop the screen up further' not contained in context.\n",
      "Example will not be converted for training/evaluation.\n",
      "Answer 'It 's not the fastest writing drive , but a slightly slower drive is better than a drive that has broken off my key chain and has gone missing completely' not contained in context.\n",
      "Example will not be converted for training/evaluation.\n",
      "Answer '32 GB' not contained in context.\n",
      "Example will not be converted for training/evaluation.\n",
      "Answer 'Performance is amazing !' not contained in context.\n",
      "Example will not be converted for training/evaluation.\n",
      "Answer 'only about 1/2 inch wide and an inch or so deep , not a lot of space for room filling speakers' not contained in context.\n",
      "Example will not be converted for training/evaluation.\n",
      "Answer 'Firstly , its a nice looking , compact , solid device . I have used it to stream video' not contained in context.\n",
      "Example will not be converted for training/evaluation.\n",
      "Answer 'The control should have' not contained in context.\n",
      "Example will not be converted for training/evaluation.\n",
      "Answer 'The stand is solid and sturdy , made of great materials and does its job' not contained in context.\n",
      "Example will not be converted for training/evaluation.\n",
      "Answer 'poor sound quality the sound quality is great' not contained in context.\n",
      "Example will not be converted for training/evaluation.\n",
      "Unable to convert 205 samples to features. Their ids are : 198-0-0, 353-0-0, 52-0-0, 233-0-0, 37-0-0, 495-0-0, 348-0-0, 448-0-6, 305-0-0, 445-0-0, 460-0-0, 120-0-0, 168-0-0, 84-0-0, 177-0-0, 478-0-0, 509-0-0, 339-0-0, 126-0-0, 390-0-0, 133-0-0, 432-0-0, 235-0-0, 386-0-0, 462-0-0, 405-0-0, 158-0-0, 469-0-0, 383-0-2, 184-1-0, 228-0-0, 266-0-0, 20-0-0, 188-0-0, 317-0-0, 304-0-0, 391-0-0, 408-0-0, 19-0-0, 268-0-0, 503-0-0, 491-0-0, 404-0-0, 113-0-0, 107-0-0, 293-0-0, 32-0-0, 458-0-0, 249-0-0, 251-0-0, 431-0-0, 207-0-0, 399-0-0, 420-0-0, 424-0-0, 269-0-0, 480-0-0, 13-0-0, 91-0-0, 357-0-0, 312-0-0, 34-0-0, 255-0-0, 271-0-0, 208-0-0, 169-0-0, 114-0-0, 334-0-0, 130-0-0, 310-0-0, 225-0-0, 231-0-0, 294-0-0, 444-0-0, 482-0-0, 108-0-0, 388-0-0, 93-0-0, 261-0-0, 72-0-0, 191-0-0, 371-0-0, 206-0-0, 315-0-0, 505-0-0, 42-0-0, 89-0-0, 86-0-0, 307-0-0, 393-0-0, 467-0-1, 286-0-0, 140-0-0, 174-0-0, 106-0-0, 151-0-0, 23-0-0, 281-0-0, 279-0-0, 283-0-0, 298-0-0, 67-0-0, 474-0-0, 60-0-0, 61-0-0, 121-0-0, 328-0-0, 242-0-0, 118-0-2, 153-0-0, 162-0-0, 389-0-0, 1-0-0, 137-0-0, 223-0-0, 17-0-0, 273-0-2, 159-0-0, 38-0-2, 2-0-0, 426-1-0, 360-0-0, 139-0-0, 125-0-0, 507-0-0, 131-0-0, 83-0-0, 236-0-0, 433-0-0, 9-0-0, 133-0-2, 147-0-0, 220-0-0, 203-0-0, 423-1-0, 440-0-0, 256-0-0, 65-0-0, 381-0-0, 26-0-2, 375-0-0, 373-0-1, 110-0-0, 104-0-0, 463-0-0, 27-0-0, 46-0-0, 289-0-0, 70-0-0, 175-0-0, 303-0-0, 244-0-0, 157-0-0, 54-0-0, 274-0-0, 176-0-0, 378-0-0, 329-0-0, 38-0-0, 143-0-0, 361-0-0, 380-0-0, 55-0-0, 349-0-0, 379-0-0, 437-0-7, 37-0-12, 406-0-0, 510-0-0, 181-0-0, 352-0-0, 211-0-0, 416-0-0, 280-0-0, 3-0-0, 196-0-0, 241-0-0, 283-0-2, 99-0-0, 180-0-0, 36-0-0, 257-0-0, 308-0-2, 363-0-0, 366-0-0, 156-0-0, 345-0-0, 197-0-0, 187-0-0, 21-0-0, 374-0-0, 22-0-0, 417-0-0, 222-0-0, 377-0-0, 511-0-0, 209-0-0, 159-0-1, 464-0-0, 452-0-0, 146-0-0, 359-0-0, 449-0-0, 163-0-0, 39-1-0\n"
     ]
    },
    {
     "data": {
      "application/vnd.jupyter.widget-view+json": {
       "model_id": "cd119ef118d54465add70e9f01d345c8",
       "version_major": 2,
       "version_minor": 0
      },
      "text/plain": [
       "Evaluating:   0%|          | 0/142 [00:00<?, ?it/s]"
      ]
     },
     "metadata": {},
     "output_type": "display_data"
    },
    {
     "data": {
      "application/vnd.jupyter.widget-view+json": {
       "model_id": "501b9f5fdb7048e4ba3f3fb7f29cc32d",
       "version_major": 2,
       "version_minor": 0
      },
      "text/plain": [
       "Evaluating:   0%|          | 0/142 [00:00<?, ?it/s]"
      ]
     },
     "metadata": {},
     "output_type": "display_data"
    },
    {
     "data": {
      "application/vnd.jupyter.widget-view+json": {
       "model_id": "4a120845a06a4abfb3cc67a909e0fb5a",
       "version_major": 2,
       "version_minor": 0
      },
      "text/plain": [
       "Evaluating:   0%|          | 0/142 [00:00<?, ?it/s]"
      ]
     },
     "metadata": {},
     "output_type": "display_data"
    },
    {
     "data": {
      "application/vnd.jupyter.widget-view+json": {
       "model_id": "0fc95f7e41ed452dbf34e6453482c14e",
       "version_major": 2,
       "version_minor": 0
      },
      "text/plain": [
       "Evaluating:   0%|          | 0/142 [00:00<?, ?it/s]"
      ]
     },
     "metadata": {},
     "output_type": "display_data"
    },
    {
     "data": {
      "application/vnd.jupyter.widget-view+json": {
       "model_id": "ed8ee49306a64635ac78174027eaacab",
       "version_major": 2,
       "version_minor": 0
      },
      "text/plain": [
       "Evaluating:   0%|          | 0/142 [00:00<?, ?it/s]"
      ]
     },
     "metadata": {},
     "output_type": "display_data"
    },
    {
     "data": {
      "application/vnd.jupyter.widget-view+json": {
       "model_id": "d7578dafdd874c618d4c89055b13764e",
       "version_major": 2,
       "version_minor": 0
      },
      "text/plain": [
       "Evaluating:   0%|          | 0/142 [00:00<?, ?it/s]"
      ]
     },
     "metadata": {},
     "output_type": "display_data"
    },
    {
     "data": {
      "application/vnd.jupyter.widget-view+json": {
       "model_id": "4352a5b2873a432fbf8855ea37229a23",
       "version_major": 2,
       "version_minor": 0
      },
      "text/plain": [
       "Evaluating:   0%|          | 0/142 [00:00<?, ?it/s]"
      ]
     },
     "metadata": {},
     "output_type": "display_data"
    },
    {
     "data": {
      "application/vnd.jupyter.widget-view+json": {
       "model_id": "046a9f1965da43fdb7ec417a73e4c5d6",
       "version_major": 2,
       "version_minor": 0
      },
      "text/plain": [
       "Evaluating:   0%|          | 0/142 [00:00<?, ?it/s]"
      ]
     },
     "metadata": {},
     "output_type": "display_data"
    },
    {
     "data": {
      "application/vnd.jupyter.widget-view+json": {
       "model_id": "1409298eb1ec4e15bbad4717852bd34d",
       "version_major": 2,
       "version_minor": 0
      },
      "text/plain": [
       "Evaluating:   0%|          | 0/142 [00:00<?, ?it/s]"
      ]
     },
     "metadata": {},
     "output_type": "display_data"
    },
    {
     "data": {
      "application/vnd.jupyter.widget-view+json": {
       "model_id": "d92f5d2423f14b048767c45d37d45e09",
       "version_major": 2,
       "version_minor": 0
      },
      "text/plain": [
       "Evaluating:   0%|          | 0/142 [00:00<?, ?it/s]"
      ]
     },
     "metadata": {},
     "output_type": "display_data"
    },
    {
     "data": {
      "application/vnd.jupyter.widget-view+json": {
       "model_id": "048f04064fb04388b6577d679eb95ef2",
       "version_major": 2,
       "version_minor": 0
      },
      "text/plain": [
       "Evaluating:   0%|          | 0/142 [00:00<?, ?it/s]"
      ]
     },
     "metadata": {},
     "output_type": "display_data"
    },
    {
     "data": {
      "application/vnd.jupyter.widget-view+json": {
       "model_id": "433fdc87b17c4f509c926f114d1ae16c",
       "version_major": 2,
       "version_minor": 0
      },
      "text/plain": [
       "Evaluating:   0%|          | 0/142 [00:00<?, ?it/s]"
      ]
     },
     "metadata": {},
     "output_type": "display_data"
    }
   ],
   "source": [
    "train = \"qa-train.json\"\n",
    "dev = \"qa-test.json\"\n",
    "reader.train(data_dir=\".\", use_gpu=True, n_epochs=5, batch_size=4, train_filename=train, dev_filename=dev)"
   ]
  },
  {
   "cell_type": "code",
   "execution_count": 22,
   "id": "1d40ffbd",
   "metadata": {},
   "outputs": [
    {
     "data": {
      "image/png": "[encoded data removed]",
      "text/plain": [
       "<Figure size 640x480 with 1 Axes>"
      ]
     },
     "metadata": {},
     "output_type": "display_data"
    }
   ],
   "source": [
    "reader_eval[\"Fine-tune on SQuAD + SubjQA\"] = evaluate_reader(reader)\n",
    "plot_reader_eval(reader_eval)"
   ]
  },
  {
   "cell_type": "markdown",
   "id": "ad32245c",
   "metadata": {},
   "source": [
    "- Training definitely increases both scores"
   ]
  },
  {
   "cell_type": "markdown",
   "id": "9f0a8c1d",
   "metadata": {},
   "source": [
    "# Inference\n",
    "- The same query as before. This time with much more accurate replies"
   ]
  },
  {
   "cell_type": "code",
   "execution_count": 23,
   "id": "a96dd955",
   "metadata": {},
   "outputs": [
    {
     "name": "stdout",
     "output_type": "stream",
     "text": [
      "Question: How would you describe the build of the camera?\n",
      "\n",
      "Answer 1: Some people complain about the build quality\n",
      "Review snippter: ...of that in processing JPEGs, so most will never know.Some people complain about the build quality.  Trust me, it's perfectly fine.  It's light, which ...\n",
      "\n",
      "\n",
      "Answer 2: this camera is built for the serious enthusiast\n",
      "Review snippter: ...hort of a DSLR camera, it has no equal.In addition, this camera is built for the serious enthusiast.  Full manual controls make it almost like having ...\n",
      "\n",
      "\n",
      "Answer 3: poor durability\n",
      "Review snippter: ... Playsport died halfway through my honeymoon. I am astounded by the poor durability of this unit and am glad I brought my Canon camera w/ UW case as a...\n",
      "\n",
      "\n"
     ]
    }
   ],
   "source": [
    "from haystack.pipelines import ExtractiveQAPipeline\n",
    "pipe = ExtractiveQAPipeline(reader=reader, retriever=bm25_retriever)\n",
    "n_answers = 3\n",
    "preds = pipe.run(query=query, params={\"Retriever\": {\"top_k\": 3, \"filters\":{\"split\":[\"train\"]}}, \\\n",
    "                                      \"Reader\":{\"top_k\": n_answers}})\n",
    "print(f\"Question: {preds['query']}\\n\")\n",
    "for idx in range(n_answers):\n",
    "    print(f\"Answer {idx+1}: {preds['answers'][idx].answer}\")\n",
    "    print(f\"Review snippter: ...{preds['answers'][idx].context}...\")\n",
    "    print(\"\\n\")"
   ]
  }
 ],
 "metadata": {
  "kernelspec": {
   "display_name": "Python 3 (ipykernel)",
   "language": "python",
   "name": "python3"
  },
  "language_info": {
   "codemirror_mode": {
    "name": "ipython",
    "version": 3
   },
   "file_extension": ".py",
   "mimetype": "text/x-python",
   "name": "python",
   "nbconvert_exporter": "python",
   "pygments_lexer": "ipython3",
   "version": "3.10.9"
  }
 },
 "nbformat": 4,
 "nbformat_minor": 5
}
